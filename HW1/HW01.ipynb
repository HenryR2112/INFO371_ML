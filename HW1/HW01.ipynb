{
 "cells": [
  {
   "cell_type": "markdown",
   "id": "c7341ee3",
   "metadata": {},
   "source": [
    "# HW 1 - Gradient Descent with Linear Regression \n",
    "\n",
    "## Instructions\n",
    "In this homework assignment, we are now going to ask you to implement gradient descent from scratch! This assignment will follow a similar structure as the lab, but we are going to ask you to do a little more by hand to check that you understand what is going on at each step. We have given you all the equations (so you don't have to calculate the partial derivates yourself) -- your goal is to figure out how to piece all the equations together and plug in your data.\n",
    "\n",
    "Keep in mind that gradient descent is in the same family as hill climbing search -- so your approach to writting your code for this assignment will likely be similar as what you did in lab. Remeber that with hill climbing, you needed to find all your neighbors, then calculate the cost function for each neighbor, and then chose the neighbor with the lowest cost. HOWEVER, with gradient descent you just use calculus/gradients to iteratively improve your guesses for the slope and intercept.\n",
    "\n",
    "---"
   ]
  },
  {
   "cell_type": "markdown",
   "id": "b817e64b",
   "metadata": {},
   "source": [
    "## 1. Gradient Descent by Hand\n",
    "\n",
    "Let's start by doing gradient descent by hand. For this, you cannont use any python packages -- you should do this using your algebra skills and a calculator. I recommend doing this on pen and paper and then attaching a picture/scan of your work to this python notebook\n",
    "\n",
    "### Part 1: Only Estimate Slope\n",
    "For this example, let’s assume we are only trying to estimate one variable given one data point. Let’s just consider the slope $m$ of a line and one data point $x = 1$. \n",
    "\n",
    "For gradient descent, we’ll also need a couple of parameters set ahead of time: 1) starting slope, 2) the cost function (and its partial derivative w.r.t the parameter we are trying to estimate), and 3) the step size/learning rate. \n",
    "\n",
    "Let's start with $m = 3$, a cost function $cost(m) = m^3$, and a step size/learning rate $\\alpha = 0.5 $\n",
    "\n",
    "Using some calculus, the partial derivative of the cost function w.r.t. m is $\\frac{\\partial cost}{\\partial m} = 3m^2$. This derivative is what you will use to calculate the gradient. \n",
    "\n",
    "\n",
    "1. Using these starting variables and a starting data point of $x = 1$, what is the slope after the first iteration of gradient descent? (HINT: it should be less than 3)\n",
    "\n",
    "\n",
    "2. What is updated slope on the next iteration? and the third iteration? \n",
    "\n",
    "\n",
    "3. What is happening to the slope after each iteration? is it increasing, decreasing, staying the same? \n",
    "\n",
    "\n",
    "\n",
    "### Part 2: More Realistic Math\n",
    "Now lets increase the complexity slightly. Let's try to do gradient descent for both the slope and intercept at the same time AND lets have a dataset now with two data points: (0,1) and (3, 2)\n",
    "\n",
    "This time, lets also use a more standard cost function -- i.e. the mean square error function. Given our training data \"x\" (i.e. 0 and 3) and labels \"y\" (i.e. 1 and 2), the cost function (aka: mean squared error) is $cost(x) = \\frac{1}{n}\\sum_{i=1}^{n} (y_i - (mx_i + b))^2$ where $n$ is the length of our dataset (in this case, $n$ = 2 because we only have two datapoints in this example). \n",
    "\n",
    "The partial derivatives of the cost function w.r.t m is $\\frac{\\partial cost}{\\partial m} = \\frac{-2}{n}\\sum_{i=1}^{n} x_i(y_i - (mx_i + b))$\n",
    "\n",
    "The partial derivatives of the cost function w.r.t b is $\\frac{\\partial cost}{\\partial b} = \\frac{-2}{n}\\sum_{i=1}^{n} y_i - (mx_i + b)$\n",
    "\n",
    "For this example, lets start with $m = 0$, $b = 0$, and $\\alpha = 0.01$\n",
    "\n",
    "\n",
    "\n",
    "3. Using these starting variables, what is the slope and intercept after the first iteration of gradient descent. \n",
    "\n",
    "\n",
    "\n",
    "4. What is slope and intercept on the next iteration? and the third iteration? \n"
   ]
  },
  {
   "cell_type": "code",
   "execution_count": 1,
   "id": "41210def",
   "metadata": {},
   "outputs": [
    {
     "name": "stdout",
     "output_type": "stream",
     "text": [
      "iteration 1: -10.5\n",
      "iteration 2: -175.875\n",
      "iteration 3: -46573.8984375\n",
      "the slope is radiply decreasing due to the quickly growing cost function\n",
      "\n",
      "first iteration m=0.06 b=0.03\n",
      "second iteration m=0.1137 b=0.0576\n",
      "third iteration m=0.161739 b=0.083037\n"
     ]
    }
   ],
   "source": [
    "# you may use python here as a calculator \n",
    "import numpy as np\n",
    "# you may use python here as a calculator \n",
    "m_pred = 3\n",
    "alpha = 0.5\n",
    "x = 1\n",
    "gradient1 = 3 * (m_pred ** 2)\n",
    "m_pred = m_pred - alpha*gradient1\n",
    "print('iteration 1:', m_pred)\n",
    "gradient2 = 3 * (m_pred) ** 2\n",
    "m_pred = m_pred - alpha*gradient2\n",
    "print('iteration 2:', m_pred)\n",
    "gradient3 = 3 * (m_pred) ** 2\n",
    "m_pred = m_pred - alpha*gradient3\n",
    "print('iteration 3:', m_pred)\n",
    "print('the slope is radiply decreasing due to the quickly growing cost function')\n",
    "\n",
    "print()\n",
    "m = 0\n",
    "b = 0\n",
    "alpha = 0.01\n",
    "xval = np.array([0,3])\n",
    "yval = np.array([1,2])\n",
    "gradient1m = -2/2 * ((0*(1-(m*0+b))) + 3*(2-(m*3+b)))\n",
    "gradient1b = -2/2 * ((1 - (m*0+b)) + (2 - (m*3+b)))\n",
    "m_new = m - alpha*gradient1m\n",
    "b_new = b - alpha*gradient1b\n",
    "print(\"first iteration m=\" + str(m_new) + ' b=' + str(b_new))\n",
    "gradient2m = -2/2 * ((0*(1-(m_new*0+b_new))) + 3*(2-(m_new*3+b_new)))\n",
    "gradient2b = -2/2 * ((1 - (m_new*0+b_new)) + (2 - (m_new*3+b_new)))\n",
    "m_new = m_new - alpha*gradient2m\n",
    "b_new = b_new - alpha*gradient2b\n",
    "print(\"second iteration m=\" + str(m_new) + ' b=' + str(b_new))\n",
    "gradient3m = -2/2 * ((0*(1-(m_new*0+b_new))) + 3*(2-(m_new*3+b_new)))\n",
    "gradient3b = -2/2 * ((1 - (m_new*0+b_new)) + (2 - (m_new*3+b_new)))\n",
    "m_new = m_new - alpha*gradient3m\n",
    "b_new = b_new - alpha*gradient3b\n",
    "print(\"third iteration m=\" + str(m_new) + ' b=' + str(b_new))\n"
   ]
  },
  {
   "cell_type": "markdown",
   "id": "a9ec4666",
   "metadata": {},
   "source": [
    "## 2. Gradient Descent with Code \n",
    "\n",
    "Now that we have done this by hand, lets work on implementing gradient descent from scratch! \n",
    "\n",
    "The general algorithm goes something like this: \n",
    "\n",
    "---\n",
    "\n",
    "*INPUT* : X values $x_1 \\dots x_n$\n",
    "\n",
    "\n",
    "*LOOP* until change in cost $\\leq$ stopping threshold OR  you've hit max # of iterations:\n",
    "    \n",
    "1. $m_{new} \\leftarrow m_{old} - \\alpha * \\frac{\\partial cost}{\\partial m}(m_{old}, x, y, b_{old})$\n",
    "2. $b_{new} \\leftarrow b_{old} - \\alpha * \\frac{\\partial cost}{\\partial b}(m_{old}, x, y, b_{old})$\n",
    "\n",
    "\n",
    "*RETURN* final m and b\n",
    "\n",
    "---\n",
    "\n",
    "5. Start by writting a function that calculates the gradient w.r.t slope. In the code block below, we have given you a starting point to work with. Your function should return the updated slope value using the gradient formula you used in Section 1 part 2. Use your answers in Section 1 part 2 to check your work! \n",
    "\n",
    "\n",
    "6. Then a funcion that calculates gradient w.r.t intercept. In the code block below, we have given you a starting point to work with. Your function should return the updated intercept value using the gradient formula you used in Section 1 part 2. Use your answers in Section 1 part 2 to check your work! \n",
    "\n",
    "\n",
    "\n",
    "7. Now write a function that does gradient descent. to make part 4 easier, you might want to have your function return how many iterations it took to get the answer. "
   ]
  },
  {
   "cell_type": "code",
   "execution_count": 26,
   "id": "175270da",
   "metadata": {},
   "outputs": [],
   "source": [
    "#some needed import statements \n",
    "from sklearn.metrics import mean_squared_error\n",
    "import pandas as pd\n",
    "import numpy as np\n",
    "import matplotlib.pyplot as plt"
   ]
  },
  {
   "cell_type": "code",
   "execution_count": 115,
   "id": "956fbe76",
   "metadata": {},
   "outputs": [],
   "source": [
    "def cost(y, y_pred):\n",
    "    return mean_squared_error(y, y_pred)\n",
    "\n",
    "def gradient_slope(x, y, y_pred):\n",
    "    #put code here for question 5\n",
    "    #you shouldn't need to change the parameters\n",
    "    diff = (y-y_pred)\n",
    "    sum_diff = sum(x*diff)\n",
    "    frac = -2/len(x)\n",
    "    m_new = frac*sum_diff\n",
    "    return m_new\n",
    "\n",
    "def gradient_intercept(y, y_pred):\n",
    "    #put code here for question 6\n",
    "    #you shouldn't need to change the parameters\n",
    "    diff = y-y_pred\n",
    "    sum_diff = sum(diff)\n",
    "    frac = -2/len(y)\n",
    "    b_new = frac*sum_diff\n",
    "    return b_new\n",
    "\n",
    "def grad_descent(x, y, max_iter, alpha, stop_thresh):\n",
    "    # set the starting values for slope and intercept to zero\n",
    "    m = 0 \n",
    "    b = 0\n",
    "    num_iter = -1\n",
    "    prev_cost = 10000\n",
    "    for n in range(max_iter + 1):\n",
    "        num_iter += 1\n",
    "        y_pred = m * x + b\n",
    "        current_cost = cost(y, y_pred)\n",
    "        if abs(prev_cost - current_cost) <= stop_thresh:\n",
    "            break\n",
    "        else:\n",
    "            m -= alpha * gradient_slope(x, y, y_pred)\n",
    "            b -= alpha * gradient_intercept(y, y_pred)\n",
    "            prev_cost = current_cost\n",
    "\n",
    "    return m, b, num_iter"
   ]
  },
  {
   "cell_type": "markdown",
   "id": "9bc2e7b5",
   "metadata": {},
   "source": [
    "## 3. Lets Check our Work\n",
    "\n",
    "Let's use the same random dataset from our lab to check our work! \n",
    "\n",
    "8. Run gradient descent using the `random.csv` dataset and set the parameters as max_iter = 3000, alpha = 0.001, and stop_thresh = 1e-6. What does your gradient descent function return for the slope and intercept? Did it converge on the answer before it hit the max number of iterations?\n",
    "\n",
    "\n",
    "9. Create a scatter plot showing the datapoints from `random.csv` and draws a line showing the predicited line generated by your gradient descent function. Does your guess look correct?"
   ]
  },
  {
   "cell_type": "code",
   "execution_count": 122,
   "id": "9e46ae69",
   "metadata": {},
   "outputs": [
    {
     "name": "stdout",
     "output_type": "stream",
     "text": [
      "(2.9657727262659264, 12.666726494893265, 3000)\n"
     ]
    },
    {
     "data": {
      "image/png": "[encoded data removed]",
      "text/plain": [
       "<Figure size 640x480 with 1 Axes>"
      ]
     },
     "metadata": {},
     "output_type": "display_data"
    }
   ],
   "source": [
    "#code here \n",
    "data = pd.read_csv(\"random.csv\")\n",
    "results = grad_descent(data.x, data.y, 3000, 0.001, .000001)\n",
    "print(results)\n",
    "yhat = results[0]*data.x + results[1]\n",
    "plt.scatter(data.x, data.y, label='Data')\n",
    "plt.plot(data.x, yhat, color='red', label='Regression Line')\n",
    "plt.legend()\n",
    "plt.show()"
   ]
  },
  {
   "cell_type": "markdown",
   "id": "7d34aee0-e120-4a82-b90b-e9a7050f79f0",
   "metadata": {},
   "source": [
    "Based on the results of the modelling 3000 iterations was not enough to find the threshold of the descent before returning a slope of 2.965 and an intercept of 12.66. The graph shows clearly though that the line fits the data well."
   ]
  },
  {
   "cell_type": "markdown",
   "id": "4ee8b27e",
   "metadata": {},
   "source": [
    "## 4. Experimenting with Different Parameters \n",
    "\n",
    "Finally lets experiment with changing the step size/learning rate (i.e the parameter alpha) and see how many iterations it takes for our approach to converge! \n",
    "\n",
    "10. Try a small alpha value of 0.001, medium alpha value 0.01, and a large alpha value 0.1. How many iterations for each alpha value does it take to converge on a solution? \n",
    "\n",
    "\n",
    "\n",
    "11. Now lets try an approach where the alpha value starts large and slowly gets smaller and smaller each iteration. Lets use the formula $\\alpha(t) = \\frac{1000}{1000 + t}$ where $t$ is the iteration number you are currently on (meaning in the first itneration t = 1, and so on). With this decaying learning rate, how many iterations does it take for your approach to converge?"
   ]
  },
  {
   "cell_type": "code",
   "execution_count": 134,
   "id": "e821eb3f",
   "metadata": {},
   "outputs": [
    {
     "name": "stdout",
     "output_type": "stream",
     "text": [
      "(2.9657727262659264, 12.666726494893265, 3000)\n",
      "(2.0064865783283223, 19.14944979954377, 1861)\n",
      "(-9.48929616067577e+56, -1.4041861626399453e+56, 30)\n"
     ]
    }
   ],
   "source": [
    "#code goes here\n",
    "results = grad_descent(data.x, data.y, 3000, 0.001, 1e-6)\n",
    "print(results)\n",
    "results = grad_descent(data.x, data.y, 3000, 0.01, 1e-6)\n",
    "print(results)\n",
    "\n",
    "#THIS RESULT IS COMMENTED OUT TO SILENCE THE ERROR DUE TO DIVERGENCE\n",
    "#results = grad_descent(data.x, data.y, 3000, 0.1, 1e-6)\n",
    "#print(results)\n",
    "\n",
    "\n",
    "\n",
    "def grad_descent_decay(x, y, max_iter, stop_thresh):\n",
    "    m = 0 \n",
    "    b = 0\n",
    "    num_iter = 0\n",
    "    prev_cost = 10000\n",
    "    for t in range(1, max_iter + 1):\n",
    "        alpha = 1000 / (1000 + t)\n",
    "        num_iter += 1\n",
    "        y_pred = m * x + b\n",
    "        current_cost = cost(y, y_pred)\n",
    "        if abs(prev_cost - current_cost) <= stop_thresh:\n",
    "            break\n",
    "        else:\n",
    "            m -= alpha * gradient_slope(x, y, y_pred)\n",
    "            b -= alpha * gradient_intercept(y, y_pred)\n",
    "            prev_cost = current_cost\n",
    "\n",
    "    return m, b, num_iter\n",
    "\n",
    "results = grad_descent_decay(data.x, data.y, 30, 1e-6)\n",
    "print(results)"
   ]
  },
  {
   "cell_type": "markdown",
   "id": "68bf9e3a-7ccd-4ea5-ab03-af61468966f4",
   "metadata": {},
   "source": [
    "As seen in the tests above the original learning rate does not fully finish its descent. The second rate does complete in 1861 iterations and the third one does not finish due to divergence from the large alpha. Additionally the decaying rate also does not converge as the first 30 iterations barely lowers alpha below .96 which leads to overflow errors as the model cannot find the lowest error due to how long it takes to settle down to an alpha that is small enough like 0.01."
   ]
  }
 ],
 "metadata": {
  "kernelspec": {
   "display_name": "Python 3 (ipykernel)",
   "language": "python",
   "name": "python3"
  },
  "language_info": {
   "codemirror_mode": {
    "name": "ipython",
    "version": 3
   },
   "file_extension": ".py",
   "mimetype": "text/x-python",
   "name": "python",
   "nbconvert_exporter": "python",
   "pygments_lexer": "ipython3",
   "version": "3.10.9"
  }
 },
 "nbformat": 4,
 "nbformat_minor": 5
}
