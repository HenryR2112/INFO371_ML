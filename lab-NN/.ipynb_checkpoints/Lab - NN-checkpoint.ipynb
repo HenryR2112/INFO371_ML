{
 "cells": [
  {
   "cell_type": "markdown",
   "id": "36333990",
   "metadata": {},
   "source": [
    "# INFO 3071 Lab - Artificial Neural Networks\n",
    "\n",
    "This lab asks you to play with using Multi-Layer Perceptron models (aka: neural networks) and examining how your architecture choices affect your accuracy. Like with the trees lab, we will use the Wisconsin\n",
    "Diagnostic Breast Cancer (WDBC) data for categorization. \n",
    "\n",
    "The aim of this lab is to give you some experience with neural networks.  Try to get as good accuracy as possible (while also minimizing overfitting)!"
   ]
  },
  {
   "cell_type": "markdown",
   "id": "7865efc5",
   "metadata": {},
   "source": [
    "## Classification \n",
    "In this task you work with WDBC data.  As a reminder, your task is to\n",
    "predict __diagnosis__ (''M'' = cancer, ''B'' = no cancer).  \n",
    "\n",
    "\n",
    "1. Load wdbc data and ensure it looks good.\n",
    "\n",
    "\n",
    "2. Create your feature matrix $X$ and label vector $y$.  The former should contain all 30 features,  everything, except __diagnosis__ and __id__.  The latter should be __diagnosis__, converted to either logical or numeric variable (otherwise sklearn will fail).\n",
    "\n",
    "\n",
    "3.  Split your data into training and validation chunks (or do cross validation below, but that is slower).\n"
   ]
  },
  {
   "cell_type": "code",
   "execution_count": null,
   "id": "fabd5d07",
   "metadata": {},
   "outputs": [],
   "source": [
    "#code goes here"
   ]
  },
  {
   "cell_type": "markdown",
   "id": "69a686ef",
   "metadata": {},
   "source": [
    "Now everything should be ready for us to train some Neural Networks.  Your\n",
    "task is to analyze the effect of changing the __hidden_layer_sizes__ hyperparameter of [MLPClassifier](https://scikit-learn.org/stable/modules/neural_networks_supervised.html). \n",
    "\n",
    "\n",
    "4. Get a baseline testing and training accuracy for your model using the default paramters.\n",
    "\n",
    "\n",
    "5. Experiment with different numers of layers (and number of nodes at each layer) to try to get the best possible accuracy. The __hidden_layer_sizes__ parameter accepts a set where the length is the number of hidden layers and each element is the number of nodes in each layer. For example if I set as hidden_layer_sizes=(5, 2, 3) then my neural network will have 3 hidden layers where the first layer has 5 nodes, the second 2 nodes, and the third has 3 nodes. \n",
    "\n",
    "\n",
    "6. Report on what the best \"architecture\" you got. Tell us how manuy layers you used and the total number of nodes you used to get your best accuracy. \n",
    "\n",
    "\n",
    "7. Does your model overfit? Back up your claim with evidence. \n",
    "        Hint: you need to examine test/train accuracy as you vary the complexity of the model.\n",
    "\n",
    "\n",
    "8. Finally, compare the best accuracy you achieved using neural networks with a similar accuracy using a default Random Forest model. Which model gives you better accuracy? Which model is more prone to overfitting with this dataset? \n",
    "\n"
   ]
  },
  {
   "cell_type": "code",
   "execution_count": null,
   "id": "5c076b0d",
   "metadata": {},
   "outputs": [],
   "source": [
    "#code goes here"
   ]
  }
 ],
 "metadata": {
  "kernelspec": {
   "display_name": "Python 3 (ipykernel)",
   "language": "python",
   "name": "python3"
  },
  "language_info": {
   "codemirror_mode": {
    "name": "ipython",
    "version": 3
   },
   "file_extension": ".py",
   "mimetype": "text/x-python",
   "name": "python",
   "nbconvert_exporter": "python",
   "pygments_lexer": "ipython3",
   "version": "3.9.12"
  }
 },
 "nbformat": 4,
 "nbformat_minor": 5
}
