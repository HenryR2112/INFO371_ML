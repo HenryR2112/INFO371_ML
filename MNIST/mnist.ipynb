{
 "cells": [
  {
   "cell_type": "code",
   "id": "initial_id",
   "metadata": {
    "collapsed": true,
    "ExecuteTime": {
     "end_time": "2024-06-02T18:03:52.411179Z",
     "start_time": "2024-06-02T18:03:51.162512Z"
    }
   },
   "source": [
    "import pandas as pd\n",
    "import numpy as np\n",
    "from sklearn.neighbors import KNeighborsClassifier\n",
    "from sklearn.naive_bayes import CategoricalNB\n",
    "from sklearn import tree\n",
    "import sklearn.ensemble as e\n",
    "from sklearn import svm\n",
    "from sklearn.neural_network import MLPClassifier\n",
    "from sklearn.linear_model import LogisticRegression\n",
    "from sklearn.model_selection import train_test_split\n",
    "import joblib"
   ],
   "outputs": [],
   "execution_count": 1
  },
  {
   "metadata": {
    "ExecuteTime": {
     "end_time": "2024-06-02T18:03:55.011256Z",
     "start_time": "2024-06-02T18:03:52.885715Z"
    }
   },
   "cell_type": "code",
   "source": [
    "df_train = pd.read_csv('train.csv')\n",
    "df_test = pd.read_csv('test.csv')\n",
    "y_train = df_train['label']\n",
    "X_train = df_train.drop(['label'], axis=1)\n",
    "\n",
    "subset_x_train, subset_x_test, subset_y_train, subset_y_test = train_test_split(X_train, y_train, test_size=0.2)"
   ],
   "id": "97ed6531d2f1fac9",
   "outputs": [],
   "execution_count": 2
  },
  {
   "metadata": {
    "ExecuteTime": {
     "end_time": "2024-06-02T16:47:43.990913Z",
     "start_time": "2024-06-02T16:47:43.976908Z"
    }
   },
   "cell_type": "code",
   "source": [
    "#Logistic Reg\n",
    "with joblib.parallel_backend(backend='loky', n_jobs=14):\n",
    "    model1 = LogisticRegression(max_iter=500)\n",
    "    model1.fit(subset_x_train, subset_y_train)\n",
    "    print('logistic performance: ', model1.score(subset_x_test, subset_y_test))\n",
    "    print()\n",
    "    \n",
    "#around 89% accuracy"
   ],
   "id": "5b07223d3c686339",
   "outputs": [],
   "execution_count": 3
  },
  {
   "metadata": {
    "ExecuteTime": {
     "end_time": "2024-06-02T16:47:50.400420Z",
     "start_time": "2024-06-02T16:47:43.992917Z"
    }
   },
   "cell_type": "code",
   "source": [
    "#knn - euclidean\n",
    "with joblib.parallel_backend(backend='loky', n_jobs=14):\n",
    "    model2_accuracy = []\n",
    "    model2 = KNeighborsClassifier(n_neighbors=3, metric='euclidean')\n",
    "    model2.fit(subset_x_train, subset_y_train)\n",
    "    model2_accuracy.append(model2.score(subset_x_test, subset_y_test))\n",
    "\n",
    "\n",
    "#.964285 accuracy"
   ],
   "id": "106261034f4c642d",
   "outputs": [],
   "execution_count": 4
  },
  {
   "metadata": {
    "ExecuteTime": {
     "end_time": "2024-06-02T16:47:50.415933Z",
     "start_time": "2024-06-02T16:47:50.402422Z"
    }
   },
   "cell_type": "code",
   "source": [
    "print(\"knn euclid mean Accuracies:\", max(model2_accuracy))\n",
    "print(model2_accuracy)"
   ],
   "id": "49170897734adfef",
   "outputs": [
    {
     "name": "stdout",
     "output_type": "stream",
     "text": [
      "knn euclid mean Accuracies: 0.9642857142857143\n",
      "[0.9642857142857143]\n"
     ]
    }
   ],
   "execution_count": 5
  },
  {
   "metadata": {
    "ExecuteTime": {
     "end_time": "2024-06-02T16:58:42.397648Z",
     "start_time": "2024-06-02T16:47:50.416934Z"
    }
   },
   "cell_type": "code",
   "source": [
    "model3_accuracy = []\n",
    "with joblib.parallel_backend(backend='loky', n_jobs=14):\n",
    "    for i in range(1,11):\n",
    "        model3 = KNeighborsClassifier(n_neighbors=i, metric='manhattan')\n",
    "        model3.fit(subset_x_train, subset_y_train)\n",
    "        model3_accuracy.append(model3.score(subset_x_test, subset_y_test))\n",
    "\n",
    "# #accuracy = .9578571428571429"
   ],
   "id": "9d433e3bb64da4d8",
   "outputs": [],
   "execution_count": 6
  },
  {
   "metadata": {
    "ExecuteTime": {
     "end_time": "2024-06-02T16:58:42.413754Z",
     "start_time": "2024-06-02T16:58:42.398651Z"
    }
   },
   "cell_type": "code",
   "source": [
    "print(\"knn manhattan mean Accuracies:\", max(model3_accuracy))\n",
    "print(model3_accuracy)"
   ],
   "id": "1a2708da8a7a7d01",
   "outputs": [
    {
     "name": "stdout",
     "output_type": "stream",
     "text": [
      "knn manhattan mean Accuracies: 0.9578571428571429\n",
      "[0.9578571428571429, 0.9469047619047619, 0.9561904761904761, 0.955, 0.9552380952380952, 0.9553571428571429, 0.9542857142857143, 0.9521428571428572, 0.9519047619047619, 0.9519047619047619]\n"
     ]
    }
   ],
   "execution_count": 7
  },
  {
   "metadata": {
    "ExecuteTime": {
     "end_time": "2024-06-02T17:09:49.885751Z",
     "start_time": "2024-06-02T16:59:10.574Z"
    }
   },
   "cell_type": "code",
   "source": [
    "model5_accuracy = []\n",
    "with joblib.parallel_backend(backend='loky', n_jobs=14):\n",
    "    for i in range(1,9):\n",
    "        model5 = KNeighborsClassifier(n_neighbors=i, metric='chebyshev')\n",
    "        model5.fit(subset_x_train, subset_y_train)\n",
    "        model5_accuracy.append(model3.score(subset_x_test, subset_y_test))\n",
    "\n",
    "#accuracy: 0.9519047619047619"
   ],
   "id": "8e8501f864463e38",
   "outputs": [],
   "execution_count": 10
  },
  {
   "metadata": {
    "ExecuteTime": {
     "end_time": "2024-06-02T17:09:49.901035Z",
     "start_time": "2024-06-02T17:09:49.886751Z"
    }
   },
   "cell_type": "code",
   "source": [
    "print(\"knn chebyshev mean Accuracies:\", max(model5_accuracy))\n",
    "print(model5_accuracy)"
   ],
   "id": "33d46ae3eb305bd4",
   "outputs": [
    {
     "name": "stdout",
     "output_type": "stream",
     "text": [
      "knn chebyshev mean Accuracies: 0.9519047619047619\n",
      "[0.9519047619047619, 0.9519047619047619, 0.9519047619047619, 0.9519047619047619, 0.9519047619047619, 0.9519047619047619, 0.9519047619047619, 0.9519047619047619, 0.9519047619047619, 0.9519047619047619]\n"
     ]
    }
   ],
   "execution_count": 11
  },
  {
   "metadata": {
    "ExecuteTime": {
     "end_time": "2024-06-02T17:12:01.143918Z",
     "start_time": "2024-06-02T17:12:01.128836Z"
    }
   },
   "cell_type": "code",
   "source": [
    "#NB - did not work\n",
    "model1 = CategoricalNB()\n",
    "model1.fit(subset_x_train, subset_y_train)\n",
    "print('Naive bayes performance: ', model1.score(subset_x_test, subset_y_test))"
   ],
   "id": "db380696df8a2f03",
   "outputs": [],
   "execution_count": 13
  },
  {
   "metadata": {
    "ExecuteTime": {
     "end_time": "2024-06-02T17:35:48.613857Z",
     "start_time": "2024-06-02T17:33:31.785110Z"
    }
   },
   "cell_type": "code",
   "source": [
    "#tree\n",
    "model1_accuracy = []\n",
    "with joblib.parallel_backend(backend='loky', n_jobs=14):\n",
    "    for depth in range(25,50):\n",
    "        d_tree = tree.DecisionTreeClassifier(criterion = 'entropy', max_depth = depth)\n",
    "        m = d_tree.fit(subset_x_train, subset_y_train)\n",
    "        model1_accuracy.append(m.score(subset_x_test, subset_y_test))\n",
    "    "
   ],
   "id": "b7e48c54da4fe2ac",
   "outputs": [],
   "execution_count": 30
  },
  {
   "metadata": {
    "ExecuteTime": {
     "end_time": "2024-06-02T17:35:48.629157Z",
     "start_time": "2024-06-02T17:35:48.615130Z"
    }
   },
   "cell_type": "code",
   "source": [
    "print(\"tree Accuracies:\", max(model1_accuracy))\n",
    "print(model1_accuracy)"
   ],
   "id": "dc645f0eea5fad6c",
   "outputs": [
    {
     "name": "stdout",
     "output_type": "stream",
     "text": [
      "tree Accuracies: 0.8676190476190476\n",
      "[0.863452380952381, 0.8676190476190476, 0.8628571428571429, 0.8598809523809524, 0.8633333333333333, 0.8636904761904762, 0.8629761904761905, 0.8629761904761905, 0.8652380952380953, 0.8622619047619048, 0.8633333333333333, 0.8626190476190476, 0.8635714285714285, 0.8582142857142857, 0.8647619047619047, 0.8623809523809524, 0.8617857142857143, 0.863452380952381, 0.8605952380952381, 0.865, 0.8613095238095239, 0.8630952380952381, 0.8663095238095239, 0.8588095238095238, 0.8614285714285714]\n"
     ]
    }
   ],
   "execution_count": 31
  },
  {
   "metadata": {
    "ExecuteTime": {
     "end_time": "2024-06-02T17:30:08.019202Z",
     "start_time": "2024-06-02T17:29:46.115339Z"
    }
   },
   "cell_type": "code",
   "source": [
    "#forest\n",
    "model1_accuracy = []\n",
    "with joblib.parallel_backend(backend='loky', n_jobs=14):\n",
    "    for trees in range(30,71, 5):\n",
    "        d_tree = e.RandomForestClassifier(criterion = 'entropy', n_estimators = trees)\n",
    "        m = d_tree.fit(subset_x_train, subset_y_train)\n",
    "        model1_accuracy.append(m.score(subset_x_test, subset_y_test))\n",
    "\n",
    "#accuracy 0.9628571428571429"
   ],
   "id": "50db6e6b7f2c54c2",
   "outputs": [],
   "execution_count": 24
  },
  {
   "metadata": {
    "ExecuteTime": {
     "end_time": "2024-06-02T17:30:08.035216Z",
     "start_time": "2024-06-02T17:30:08.020202Z"
    }
   },
   "cell_type": "code",
   "source": [
    "print(\"forest Accuracies:\", max(model1_accuracy))\n",
    "print(model1_accuracy)"
   ],
   "id": "5ab19bd823708f02",
   "outputs": [
    {
     "name": "stdout",
     "output_type": "stream",
     "text": [
      "forest Accuracies: 0.9628571428571429\n",
      "[0.9561904761904761, 0.9583333333333334, 0.9565476190476191, 0.9592857142857143, 0.9595238095238096, 0.9583333333333334, 0.9596428571428571, 0.9628571428571429, 0.9602380952380952]\n"
     ]
    }
   ],
   "execution_count": 25
  },
  {
   "metadata": {
    "ExecuteTime": {
     "end_time": "2024-06-02T17:59:38.386429Z",
     "start_time": "2024-06-02T17:52:16.431836Z"
    }
   },
   "cell_type": "code",
   "source": [
    "#svm\n",
    "\n",
    "kernels = ['linear', 'poly', 'rbf', 'sigmoid']\n",
    "test_accuracy = []\n",
    "\n",
    "with joblib.parallel_backend(backend='loky', n_jobs=14):\n",
    "    for kernel in kernels:\n",
    "        model = svm.SVC(kernel=kernel, max_iter=8000)\n",
    "        model.fit(subset_x_train, subset_y_train)\n",
    "        accuracy = model.score(subset_x_test, subset_y_test)\n",
    "        test_accuracy.append((accuracy, kernel))\n",
    "\n",
    "#SVM accuracy: .9726190476190476 -RBF"
   ],
   "id": "e40557e547030668",
   "outputs": [
    {
     "name": "stderr",
     "output_type": "stream",
     "text": [
      "C:\\Users\\Henry Ramstad\\anaconda3\\lib\\site-packages\\sklearn\\svm\\_base.py:299: ConvergenceWarning: Solver terminated early (max_iter=8000).  Consider pre-processing your data with StandardScaler or MinMaxScaler.\n",
      "  warnings.warn(\n"
     ]
    }
   ],
   "execution_count": 3
  },
  {
   "metadata": {
    "ExecuteTime": {
     "end_time": "2024-06-02T17:59:38.402181Z",
     "start_time": "2024-06-02T17:59:38.387423Z"
    }
   },
   "cell_type": "code",
   "source": [
    "print(\"svm Accuracies:\", max(test_accuracy))\n",
    "print(test_accuracy)"
   ],
   "id": "fe049e87c3edaea9",
   "outputs": [
    {
     "name": "stdout",
     "output_type": "stream",
     "text": [
      "svm Accuracies: (0.9726190476190476, 'rbf')\n",
      "[(0.8845238095238095, 'linear'), (0.9709523809523809, 'poly'), (0.9726190476190476, 'rbf'), (0.7785714285714286, 'sigmoid')]\n"
     ]
    }
   ],
   "execution_count": 4
  },
  {
   "metadata": {
    "ExecuteTime": {
     "end_time": "2024-06-02T17:30:49.400895Z",
     "start_time": "2024-06-02T17:30:08.051776Z"
    }
   },
   "cell_type": "code",
   "source": [
    "#NN\n",
    "test_acc = []\n",
    "with joblib.parallel_backend(backend='loky', n_jobs=14):\n",
    "    model = MLPClassifier(max_iter=500)\n",
    "    model.fit(subset_x_train, subset_y_train)\n",
    "    test_acc.append(model.score(subset_x_test, subset_y_test))\n",
    "\n",
    "#unarchitected NN .96 accuracy"
   ],
   "id": "302c6a62a33496e9",
   "outputs": [],
   "execution_count": 27
  },
  {
   "metadata": {
    "ExecuteTime": {
     "end_time": "2024-06-02T17:30:49.416575Z",
     "start_time": "2024-06-02T17:30:49.401898Z"
    }
   },
   "cell_type": "code",
   "source": [
    "print(\"NN Accuracies:\", max(test_acc))\n",
    "print(test_acc)"
   ],
   "id": "9593fd939da73ac7",
   "outputs": [
    {
     "name": "stdout",
     "output_type": "stream",
     "text": [
      "NN Accuracies: 0.96\n",
      "[0.96]\n"
     ]
    }
   ],
   "execution_count": 28
  },
  {
   "metadata": {
    "jupyter": {
     "is_executing": true
    },
    "ExecuteTime": {
     "start_time": "2024-06-02T18:04:17.300707Z"
    }
   },
   "cell_type": "code",
   "source": [
    "test_accuracy = []\n",
    "with joblib.parallel_backend(backend='loky', n_jobs=14):\n",
    "    for i in range(2,7):\n",
    "        for j in range(2,7):\n",
    "            for k in range(2,7):\n",
    "                model = MLPClassifier(hidden_layer_sizes=(i,j,k), max_iter=2000)\n",
    "                model.fit(subset_x_train, subset_y_train)\n",
    "                test = ((model.score(subset_x_test, subset_y_test)), (i,j,k))\n",
    "                test_accuracy.append(test)"
   ],
   "id": "e8b6a30286113119",
   "outputs": [],
   "execution_count": null
  },
  {
   "metadata": {
    "jupyter": {
     "is_executing": true
    }
   },
   "cell_type": "code",
   "source": "print(max(test_accuracy))",
   "id": "4aa3af486faacade",
   "outputs": [],
   "execution_count": null
  }
 ],
 "metadata": {
  "kernelspec": {
   "display_name": "Python 3",
   "language": "python",
   "name": "python3"
  },
  "language_info": {
   "codemirror_mode": {
    "name": "ipython",
    "version": 2
   },
   "file_extension": ".py",
   "mimetype": "text/x-python",
   "name": "python",
   "nbconvert_exporter": "python",
   "pygments_lexer": "ipython2",
   "version": "2.7.6"
  }
 },
 "nbformat": 4,
 "nbformat_minor": 5
}
